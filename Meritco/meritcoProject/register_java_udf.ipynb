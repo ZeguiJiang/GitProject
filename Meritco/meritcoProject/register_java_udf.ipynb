{
 "cells": [
  {
   "cell_type": "code",
   "execution_count": 1,
   "metadata": {},
   "outputs": [],
   "source": [
    "from IPython.core.interactiveshell import InteractiveShell\n",
    "InteractiveShell.ast_node_interactivity = \"all\"\n",
    "\n",
    "import os\n",
    "import numpy as np\n",
    "import pandas as pd\n",
    "\n",
    "from pyspark.sql import SparkSession\n",
    "from pyspark.sql import functions as F\n",
    "from pyspark.sql.types import IntegerType, BooleanType, StringType, ArrayType, MapType, StructField, StructType"
   ]
  },
  {
   "cell_type": "code",
   "execution_count": 2,
   "metadata": {},
   "outputs": [],
   "source": [
    "spark = SparkSession.builder \\\n",
    "    .master(\"local[*]\") \\\n",
    "    .appName(\"sparksql\") \\\n",
    "    .config(\"spark.jars\", \"/Users/liuf/scala/unicom/target/unicom.jar\") \\\n",
    "    .getOrCreate()"
   ]
  },
  {
   "cell_type": "markdown",
   "metadata": {},
   "source": [
    "## function"
   ]
  },
  {
   "cell_type": "code",
   "execution_count": 3,
   "metadata": {},
   "outputs": [],
   "source": [
    "def register_java_udf(name, return_type, package=\"com.meritco.spark.udf\"):\n",
    "    \"\"\"\n",
    "    spark.udf.registerJavaFunction(\"toUpperCase\", \"com.meritco.spark.udf.toUpperCase\", StringType())\n",
    "\n",
    "    register_java_udf(\"intToLetter\", ArrayType(StringType()))\n",
    "    \"\"\"\n",
    "    class_name = name if name.find(\"_\") <= 0 else name.split(\"_\")[0]\n",
    "    spark.udf.registerJavaFunction(name, f\"{package}.{class_name}\", return_type)\n",
    "\n",
    "UDFs = {\n",
    "    \"intToLetter\": ArrayType(StringType()),\n",
    "    \"reverseMap\": MapType(IntegerType(), ArrayType(IntegerType())),\n",
    "    \"mapFromEntries\": MapType(IntegerType(), ArrayType(IntegerType())),\n",
    "    \n",
    "    \"filterMapByKey_Str\": MapType(IntegerType(), StringType()),\n",
    "    \"filterMapByKey_Int\": MapType(IntegerType(), IntegerType()),\n",
    "    \"filterMapByStartEnd_Str\": MapType(IntegerType(), StringType()),\n",
    "    \"filterMapByStartEnd_Int\": MapType(IntegerType(), IntegerType()),\n",
    "    \n",
    "    \"arrayFlattenDistinct\": ArrayType(IntegerType()),\n",
    "    \"arrayFilterStartEnd\": ArrayType(IntegerType()),\n",
    "    \n",
    "    \"daySetTo52\": StringType(),\n",
    "    \"daySetFrom10\": ArrayType(IntegerType()),\n",
    "    \"daycountFrom10\": IntegerType(),\n",
    "    \"appDaysTo52\": MapType(IntegerType(), StringType()),\n",
    "    \"appDaycountMapFrom52\": MapType(IntegerType(), IntegerType()),\n",
    "    \n",
    "    \"hostToIndex\": IntegerType(),\n",
    "    \"collectionEqual\": BooleanType(),\n",
    "}\n",
    "\n",
    "for f, t in UDFs.items():\n",
    "    register_java_udf(f, t)"
   ]
  },
  {
   "cell_type": "code",
   "execution_count": 4,
   "metadata": {},
   "outputs": [
    {
     "name": "stdout",
     "output_type": "stream",
     "text": [
      "+------+\n",
      "|dayset|\n",
      "+------+\n",
      "|[1, 2]|\n",
      "+------+\n",
      "\n"
     ]
    }
   ],
   "source": [
    "spark.sql(\"select daySetFrom10(1610612736) as dayset\").show()"
   ]
  },
  {
   "cell_type": "code",
   "execution_count": null,
   "metadata": {},
   "outputs": [],
   "source": []
  }
 ],
 "metadata": {
  "kernelspec": {
   "display_name": "Python 3",
   "language": "python",
   "name": "python3"
  },
  "language_info": {
   "codemirror_mode": {
    "name": "ipython",
    "version": 3
   },
   "file_extension": ".py",
   "mimetype": "text/x-python",
   "name": "python",
   "nbconvert_exporter": "python",
   "pygments_lexer": "ipython3",
   "version": "3.8.8"
  },
  "toc": {
   "base_numbering": 1,
   "nav_menu": {},
   "number_sections": true,
   "sideBar": true,
   "skip_h1_title": false,
   "title_cell": "Table of Contents",
   "title_sidebar": "Contents",
   "toc_cell": false,
   "toc_position": {
    "height": "calc(100% - 180px)",
    "left": "10px",
    "top": "150px",
    "width": "404.35px"
   },
   "toc_section_display": true,
   "toc_window_display": true
  }
 },
 "nbformat": 4,
 "nbformat_minor": 2
}
